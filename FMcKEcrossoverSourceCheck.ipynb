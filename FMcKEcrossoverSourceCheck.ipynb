{
 "cells": [
  {
   "cell_type": "code",
   "execution_count": 1,
   "metadata": {},
   "outputs": [],
   "source": [
    "import pandas as pd\n",
    "from math import *\n",
    "from scipy import interpolate\n",
    "import matplotlib.pyplot as plt\n",
    "import numpy as np\n",
    "import time, threading"
   ]
  },
  {
   "cell_type": "code",
   "execution_count": 2,
   "metadata": {},
   "outputs": [
    {
     "name": "stdout",
     "output_type": "stream",
     "text": [
      "['Unnamed: 0' 'PorbSI' 'mass_1SI' 'mass_2SI' 'mass_1rSI' 'mass_2rSI' 'mc'\n",
      " 'ecc' 'a_b' 'w_spin1' 'w_spin2' 'wl' 'wh' 'w_force' 'w_star1' 'w_star2'\n",
      " 'kstar_1' 'kstar_2']\n"
     ]
    }
   ],
   "source": [
    "pd.set_option('display.max_columns', None)\n",
    "#read in data from cosmic using path to file\n",
    "df = pd.read_csv(r\"C:\\Users\\bethc\\downloads\\COSMICfilteredPop100KWDWDcrossover.csv\")\n",
    "lisasens=pd.read_csv(r\"C:\\Users\\bethc\\Downloads\\LISAcurveSigFig.csv\", index_col=False)\n",
    "\n",
    "print(df.columns.values)"
   ]
  },
  {
   "cell_type": "code",
   "execution_count": 3,
   "metadata": {},
   "outputs": [],
   "source": [
    "w_force=df.w_force\n",
    "wl=df.wl\n",
    "wh=df.wh"
   ]
  },
  {
   "cell_type": "code",
   "execution_count": 4,
   "metadata": {},
   "outputs": [],
   "source": [
    "cond = (df['w_force'] < df['wl'] ) & (df['w_force'].shift(1) >= df.wl)\n",
    "\n"
   ]
  },
  {
   "cell_type": "code",
   "execution_count": 5,
   "metadata": {},
   "outputs": [],
   "source": [
    "#histogram of wforce/wforce_max and wforce/wforce_min\n",
    "#wforce_max when star is last state\n",
    "#wforce_min when star is first CO WD"
   ]
  },
  {
   "cell_type": "code",
   "execution_count": 6,
   "metadata": {},
   "outputs": [],
   "source": [
    "stip=w_force/wl-w_force/wh"
   ]
  },
  {
   "cell_type": "code",
   "execution_count": 7,
   "metadata": {},
   "outputs": [],
   "source": [
    "stip_true=stip<0\n",
    "stip_false=stip>0"
   ]
  },
  {
   "cell_type": "code",
   "execution_count": 8,
   "metadata": {},
   "outputs": [
    {
     "data": {
      "text/plain": [
       "0         True\n",
       "1         True\n",
       "2         True\n",
       "3         True\n",
       "4         True\n",
       "          ... \n",
       "707483    True\n",
       "707484    True\n",
       "707485    True\n",
       "707486    True\n",
       "707487    True\n",
       "Length: 707488, dtype: bool"
      ]
     },
     "execution_count": 8,
     "metadata": {},
     "output_type": "execute_result"
    }
   ],
   "source": [
    "stip_true"
   ]
  },
  {
   "cell_type": "code",
   "execution_count": 9,
   "metadata": {},
   "outputs": [],
   "source": [
    "#scatter plot: LISA SNR vs. stip_true(discriminator)\n",
    "#SNR<1,2,10 w/10 being desirable\n",
    "#wforce/wl vs. wforce/wh"
   ]
  },
  {
   "cell_type": "code",
   "execution_count": 10,
   "metadata": {},
   "outputs": [],
   "source": [
    "flisa=lisasens.f\n",
    "hflisa=lisasens.hf\n",
    "#constants\n",
    "\n",
    "G=6.67408*10**-11\n",
    "c=3.0e8\n",
    "#convert orbital period from days to seconds\n",
    "porbSI=df.PorbSI\n",
    "#convert mass1/2 from solar mass to kg\n",
    "mass_1SI=df.mass_1SI\n",
    "mass_2SI=df.mass_2SI\n",
    "#calculate components for SNR\n",
    "#frequency\n",
    "f=2/porbSI\n",
    "# f=f.replace([np.inf,-np.inf, [0]],np.nan)\n",
    "# f.dropna(inplace=True)\n",
    "#chirp mass\n",
    "mc=df.mc\n",
    "# mc=mc.replace([0],np.nan)\n",
    "# mc.dropna(inplace=True)\n",
    "#distance between binaries\n",
    "dist=((G*mc*porbSI**2)/(4*pi**2))**(1/3)\n",
    "#distance from binary system to LISA\n",
    "#assume distance of 1200pc\n",
    "#convert to meters\n",
    "dist_LISA=1200*3.0857e16\n",
    "#strain\n",
    "h_0=4*(G/c**2)*(mc/dist_LISA)*((G/c**3)*pi*f*mc)**(2/3)\n",
    "h_0=h_0.replace([np.inf,-np.inf],np.nan)\n",
    "h_0.dropna(inplace=True)\n",
    "#observing time in years\n",
    "#converting to seconds\n",
    "tobs=1.262e8\n",
    "#monochromatic source\n",
    "h_f_mono=h_0*sqrt(tobs)\n",
    "#LISA sensitivity\n",
    "#sort/log LISA data\n",
    "log_flisa=np.log(flisa)\n",
    "log_flisa_res=[]\n",
    "for i in log_flisa:\n",
    "    if i not in log_flisa_res:\n",
    "        log_flisa_res.append(i)\n",
    "sort_flisa=sorted(log_flisa_res)\n",
    "log_hflisa=np.log(hflisa)\n",
    "log_hflisa_res=[]\n",
    "for i in log_hflisa:\n",
    "    if i not in log_hflisa_res:\n",
    "        log_hflisa_res.append(i)\n",
    "sort_hflisa=sorted(log_hflisa_res)\n",
    "#create spline fit of LISA curve\n",
    "s=interpolate.InterpolatedUnivariateSpline(flisa,hflisa)\n",
    "h_f_d=s(h_f_mono)*sqrt(tobs)\n",
    "#for chirping sources\n",
    "kappa=5/256*((G/c**3)*mc)**(-5/3)*pi**(-8/3)\n",
    "#stationary freq\n",
    "fs=(8/3*kappa/(tobs**2))**(3/11)\n",
    "fs\n",
    "#tbin\n",
    "tbin=8/3*kappa*fs**(-11/3)/tobs"
   ]
  },
  {
   "cell_type": "code",
   "execution_count": 11,
   "metadata": {},
   "outputs": [
    {
     "ename": "KeyboardInterrupt",
     "evalue": "",
     "output_type": "error",
     "traceback": [
      "\u001b[1;31m---------------------------------------------------------------------------\u001b[0m",
      "\u001b[1;31mKeyboardInterrupt\u001b[0m                         Traceback (most recent call last)",
      "\u001b[1;32m<ipython-input-11-6c91cc39d33c>\u001b[0m in \u001b[0;36m<module>\u001b[1;34m\u001b[0m\n\u001b[0;32m      3\u001b[0m \u001b[1;32mfor\u001b[0m \u001b[0mi\u001b[0m \u001b[1;32min\u001b[0m \u001b[0mrange\u001b[0m\u001b[1;33m(\u001b[0m\u001b[0mlen\u001b[0m\u001b[1;33m(\u001b[0m\u001b[0mf\u001b[0m\u001b[1;33m)\u001b[0m\u001b[1;33m)\u001b[0m\u001b[1;33m:\u001b[0m\u001b[1;33m\u001b[0m\u001b[1;33m\u001b[0m\u001b[0m\n\u001b[0;32m      4\u001b[0m     \u001b[1;32mif\u001b[0m \u001b[0mf\u001b[0m\u001b[1;33m[\u001b[0m\u001b[0mi\u001b[0m\u001b[1;33m]\u001b[0m\u001b[1;33m<=\u001b[0m\u001b[0mfs\u001b[0m\u001b[1;33m[\u001b[0m\u001b[0mi\u001b[0m\u001b[1;33m]\u001b[0m\u001b[1;33m:\u001b[0m\u001b[1;33m\u001b[0m\u001b[1;33m\u001b[0m\u001b[0m\n\u001b[1;32m----> 5\u001b[1;33m         \u001b[0mSNR\u001b[0m\u001b[1;33m=\u001b[0m\u001b[0mnp\u001b[0m\u001b[1;33m.\u001b[0m\u001b[0mlog\u001b[0m\u001b[1;33m(\u001b[0m\u001b[0mh_f_mono\u001b[0m\u001b[1;33m)\u001b[0m\u001b[1;33m/\u001b[0m\u001b[0mnp\u001b[0m\u001b[1;33m.\u001b[0m\u001b[0mlog\u001b[0m\u001b[1;33m(\u001b[0m\u001b[0mh_f_d\u001b[0m\u001b[1;33m)\u001b[0m\u001b[1;33m\u001b[0m\u001b[1;33m\u001b[0m\u001b[0m\n\u001b[0m\u001b[0;32m      6\u001b[0m \u001b[1;33m\u001b[0m\u001b[0m\n\u001b[0;32m      7\u001b[0m     \u001b[1;32melif\u001b[0m \u001b[0mf\u001b[0m\u001b[1;33m[\u001b[0m\u001b[0mi\u001b[0m\u001b[1;33m]\u001b[0m\u001b[1;33m>\u001b[0m\u001b[0mfs\u001b[0m\u001b[1;33m[\u001b[0m\u001b[0mi\u001b[0m\u001b[1;33m]\u001b[0m\u001b[1;33m:\u001b[0m\u001b[1;33m\u001b[0m\u001b[1;33m\u001b[0m\u001b[0m\n",
      "\u001b[1;32m~\\AppData\\Local\\Continuum\\anaconda3\\lib\\site-packages\\pandas\\core\\series.py\u001b[0m in \u001b[0;36m__array_ufunc__\u001b[1;34m(self, ufunc, method, *inputs, **kwargs)\u001b[0m\n\u001b[0;32m    851\u001b[0m \u001b[1;33m\u001b[0m\u001b[0m\n\u001b[0;32m    852\u001b[0m         \u001b[0minputs\u001b[0m \u001b[1;33m=\u001b[0m \u001b[0mtuple\u001b[0m\u001b[1;33m(\u001b[0m\u001b[0mextract_array\u001b[0m\u001b[1;33m(\u001b[0m\u001b[0mx\u001b[0m\u001b[1;33m,\u001b[0m \u001b[0mextract_numpy\u001b[0m\u001b[1;33m=\u001b[0m\u001b[1;32mTrue\u001b[0m\u001b[1;33m)\u001b[0m \u001b[1;32mfor\u001b[0m \u001b[0mx\u001b[0m \u001b[1;32min\u001b[0m \u001b[0minputs\u001b[0m\u001b[1;33m)\u001b[0m\u001b[1;33m\u001b[0m\u001b[1;33m\u001b[0m\u001b[0m\n\u001b[1;32m--> 853\u001b[1;33m         \u001b[0mresult\u001b[0m \u001b[1;33m=\u001b[0m \u001b[0mgetattr\u001b[0m\u001b[1;33m(\u001b[0m\u001b[0mufunc\u001b[0m\u001b[1;33m,\u001b[0m \u001b[0mmethod\u001b[0m\u001b[1;33m)\u001b[0m\u001b[1;33m(\u001b[0m\u001b[1;33m*\u001b[0m\u001b[0minputs\u001b[0m\u001b[1;33m,\u001b[0m \u001b[1;33m**\u001b[0m\u001b[0mkwargs\u001b[0m\u001b[1;33m)\u001b[0m\u001b[1;33m\u001b[0m\u001b[1;33m\u001b[0m\u001b[0m\n\u001b[0m\u001b[0;32m    854\u001b[0m         \u001b[1;32mif\u001b[0m \u001b[0mlen\u001b[0m\u001b[1;33m(\u001b[0m\u001b[0mset\u001b[0m\u001b[1;33m(\u001b[0m\u001b[0mnames\u001b[0m\u001b[1;33m)\u001b[0m\u001b[1;33m)\u001b[0m \u001b[1;33m==\u001b[0m \u001b[1;36m1\u001b[0m\u001b[1;33m:\u001b[0m\u001b[1;33m\u001b[0m\u001b[1;33m\u001b[0m\u001b[0m\n\u001b[0;32m    855\u001b[0m             \u001b[1;31m# we require names to be hashable, right?\u001b[0m\u001b[1;33m\u001b[0m\u001b[1;33m\u001b[0m\u001b[1;33m\u001b[0m\u001b[0m\n",
      "\u001b[1;31mKeyboardInterrupt\u001b[0m: "
     ]
    }
   ],
   "source": [
    "#SNR=np.where(f<=fs,np.log(h_f_mono)/np.log(h_f_d),(((h_0**2)/(h_f_d**2))*tbin)**(1/2))\n",
    "\n",
    "for i in range(len(f)):\n",
    "    if f[i]<=fs[i]:\n",
    "        SNR=np.log(h_f_mono)/np.log(h_f_d)\n",
    "        \n",
    "    elif f[i]>fs[i]:\n",
    "        SNR=(((h_0**2)/(h_f_d**2))*tbin)**(1/2)\n",
    "        "
   ]
  },
  {
   "cell_type": "code",
   "execution_count": 12,
   "metadata": {},
   "outputs": [
    {
     "data": {
      "text/plain": [
       "707465"
      ]
     },
     "execution_count": 12,
     "metadata": {},
     "output_type": "execute_result"
    }
   ],
   "source": [
    "len(SNR)"
   ]
  },
  {
   "cell_type": "code",
   "execution_count": null,
   "metadata": {},
   "outputs": [],
   "source": [
    "len(h_f_d)"
   ]
  },
  {
   "cell_type": "code",
   "execution_count": null,
   "metadata": {},
   "outputs": [],
   "source": [
    "len(h_0)"
   ]
  },
  {
   "cell_type": "code",
   "execution_count": null,
   "metadata": {},
   "outputs": [],
   "source": [
    "len(f)"
   ]
  },
  {
   "cell_type": "code",
   "execution_count": null,
   "metadata": {},
   "outputs": [],
   "source": [
    "len(fs)"
   ]
  },
  {
   "cell_type": "code",
   "execution_count": null,
   "metadata": {},
   "outputs": [],
   "source": [
    "range(len(f))"
   ]
  },
  {
   "cell_type": "code",
   "execution_count": null,
   "metadata": {},
   "outputs": [],
   "source": [
    "# #create plot of lisa curve with SNR scatter\n",
    "# plt.xscale('log')\n",
    "# plt.yscale('log')\n",
    "# plt.scatter(flisa,hflisa)\n",
    "# plt.scatter(f,stip_true)\n",
    "# plt.show()"
   ]
  },
  {
   "cell_type": "code",
   "execution_count": null,
   "metadata": {},
   "outputs": [],
   "source": [
    "plt.scatter(w_force/wl, w_force/wh)\n",
    "plt.show()"
   ]
  },
  {
   "cell_type": "code",
   "execution_count": null,
   "metadata": {},
   "outputs": [],
   "source": [
    "max(w_force/wl)"
   ]
  },
  {
   "cell_type": "code",
   "execution_count": null,
   "metadata": {},
   "outputs": [],
   "source": [
    "max(w_force/wh)"
   ]
  },
  {
   "cell_type": "code",
   "execution_count": null,
   "metadata": {},
   "outputs": [],
   "source": [
    "min(w_force/wl)"
   ]
  },
  {
   "cell_type": "code",
   "execution_count": null,
   "metadata": {},
   "outputs": [],
   "source": [
    "min(w_force/wh)"
   ]
  },
  {
   "cell_type": "code",
   "execution_count": null,
   "metadata": {},
   "outputs": [],
   "source": []
  }
 ],
 "metadata": {
  "kernelspec": {
   "display_name": "Python 3",
   "language": "python",
   "name": "python3"
  },
  "language_info": {
   "codemirror_mode": {
    "name": "ipython",
    "version": 3
   },
   "file_extension": ".py",
   "mimetype": "text/x-python",
   "name": "python",
   "nbconvert_exporter": "python",
   "pygments_lexer": "ipython3",
   "version": "3.7.4"
  }
 },
 "nbformat": 4,
 "nbformat_minor": 2
}
