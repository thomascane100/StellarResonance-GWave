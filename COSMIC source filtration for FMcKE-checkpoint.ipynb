{
 "cells": [
  {
   "cell_type": "code",
   "execution_count": 1,
   "metadata": {},
   "outputs": [],
   "source": []
  },
  {
   "cell_type": "code",
   "execution_count": 2,
   "metadata": {},
   "outputs": [
    {
     "name": "stdout",
     "output_type": "stream",
     "text": [
      "['Unnamed: 0' 'tphys' 'mass_1' 'mass_2' 'kstar_1' 'kstar_2' 'sep' 'porb'\n",
      " 'ecc' 'RRLO_1' 'RRLO_2' 'evol_type' 'aj_1' 'aj_2' 'tms_1' 'tms_2'\n",
      " 'massc_1' 'massc_2' 'rad_1' 'rad_2' 'mass0_1' 'mass0_2' 'lum_1' 'lum_2'\n",
      " 'teff_1' 'teff_2' 'radc_1' 'radc_2' 'menv_1' 'menv_2' 'renv_1' 'renv_2'\n",
      " 'omega_spin_1' 'omega_spin_2' 'B_1' 'B_2' 'bacc_1' 'bacc_2' 'tacc_1'\n",
      " 'tacc_2' 'epoch_1' 'epoch_2' 'bhspin_1' 'bhspin_2' 'bin_num']\n"
     ]
    }
   ],
   "source": []
  },
  {
   "cell_type": "code",
   "execution_count": 3,
   "metadata": {},
   "outputs": [],
   "source": []
  },
  {
   "cell_type": "code",
   "execution_count": 4,
   "metadata": {},
   "outputs": [],
   "source": []
  },
  {
   "cell_type": "code",
   "execution_count": 5,
   "metadata": {},
   "outputs": [],
   "source": [
    "import pandas as pd\n",
    "from math import *\n",
    "from scipy import interpolate\n",
    "import matplotlib.pyplot as plt\n",
    "import numpy as np\n",
    "import time, threading\n",
    "\n",
    "pd.set_option('display.max_columns', None)\n",
    "#read in data from cosmic using path to file\n",
    "cosmicpop = pd.read_csv(r\"PathToFile\")\n",
    "print(cosmicpop.columns.values)\n",
    "\n",
    "#drop zero mass sources\n",
    "cosmicpop_nom1_0=cosmicpop[(cosmicpop['mass_1'] ==0)].index\n",
    "cosmicpop.drop(cosmicpop_nom1_0 , inplace=True)\n",
    "cosmicpop_nom2_0=cosmicpop[(cosmicpop['mass_2'] ==0)].index\n",
    "cosmicpop.drop(cosmicpop_nom2_0 , inplace=True)\n",
    "#drop 0,-1 porb sources\n",
    "cosmicpop_f1=cosmicpop[(cosmicpop['porb'] ==0)].index\n",
    "cosmicpop.drop(cosmicpop_f1, inplace=True)\n",
    "cosmicpop_f0=cosmicpop[(cosmicpop['porb'] ==-1)].index\n",
    "cosmicpop.drop(cosmicpop_f0, inplace=True)\n",
    "#define detectable sources\n",
    "#detectable=cosmicpop[(cosmicpop['porb']<1461.03)]\n",
    "#drop 0,-1 ecc sources\n",
    "cosmicpop_ecc0=cosmicpop[(cosmicpop['ecc'] ==0)].index\n",
    "cosmicpop.drop(cosmicpop_ecc0, inplace=True)\n",
    "cosmicpop_ecc1=cosmicpop[(cosmicpop['ecc'] ==-1)].index\n",
    "cosmicpop.drop(cosmicpop_ecc1, inplace=True)\n",
    "#drop ecc>0.1 sources\n",
    "#cosmicpop_eccbig=cosmicpop[(cosmicpop['ecc'] >0.1)].index\n",
    "#cosmicpop.drop(cosmicpop_eccbig, inplace=True)\n",
    "#drop non CO-CO White dwaves k_star1,2=11\n",
    "cosmicpop_kstar1=cosmicpop[(cosmicpop['kstar_1'] != 11)].index\n",
    "cosmicpop.drop(cosmicpop_kstar1, inplace=True)\n",
    "cosmicpop_kstar2=cosmicpop[(cosmicpop['kstar_2'] != 13)].index\n",
    "cosmicpop.drop(cosmicpop_kstar2, inplace=True)\n",
    "\n",
    "#read in variables from COSMIC dataframe\n",
    "#orbital period drops\n",
    "porb=cosmicpop.porb\n",
    "porb=porb.replace([0,-1], np.nan)\n",
    "porb.dropna(inplace=True)\n",
    "mass_1=cosmicpop.mass_1\n",
    "mass_2=cosmicpop.mass_2\n",
    "mass_1=mass_1.replace([0], np.nan)\n",
    "mass_1.dropna(inplace=True)\n",
    "mass_2=mass_2.replace([0], np.nan)\n",
    "mass_2.dropna(inplace=True)\n",
    "#WD radii\n",
    "mass1_r=cosmicpop.rad_1\n",
    "mass2_r=cosmicpop.rad_2\n",
    "#eccentricity of orbit\n",
    "ecc=cosmicpop.ecc\n",
    "kstar_1=cosmicpop.kstar_1\n",
    "kstar_2=cosmicpop.kstar_2\n",
    "#separation is semi-major\n",
    "a_b=cosmicpop.sep\n",
    "#angular velocity of WD\n",
    "w_star1=cosmicpop.omega_spin_1\n",
    "w_star2=cosmicpop.omega_spin_2\n",
    "\n",
    "#Convert quantities into SI units\n",
    "#convert orbital period from days to seconds\n",
    "PorbSI=porb*86400\n",
    "#PorbYear=porb/356.256\n",
    "#PorbDet=detectable\n",
    "#convert mass1/2 from solar mass to kg\n",
    "mass_1SI=mass_1*1.98847e30\n",
    "mass_2SI=mass_2*1.98847e30\n",
    "#convert radii to m\n",
    "mass_1rSI=mass1_r*6.96e8\n",
    "mass_2rSI=mass2_r*6.96e8\n",
    "#chirp mass\n",
    "#drop values that are 0\n",
    "mc=((mass_1SI*mass_2SI)**(3/5)/((mass_1SI+mass_2SI)**(1/5)))\n",
    "mc=mc.replace([0],np.nan)\n",
    "mc.dropna(inplace=True)\n",
    "#semi-major for R solar to m\n",
    "a_b=a_b*6.96e8\n",
    "#angular velocity from yr-1 to s-1\n",
    "w_star1=w_star1*3.156e7\n",
    "w_star2=w_star2*3.156e7\n",
    "\n",
    "#write filtered and converted values to new csv\n",
    "data=[PorbSI, mass_1SI, mass_2SI, mass_1rSI, mass_2rSI, mc, ecc, a_b, w_star1, w_star2, kstar_1, kstar_2]\n",
    "COSMICfilteredPop=pd.DataFrame(data)\n",
    "cosmicfilterpop=COSMICfilteredPop.transpose()\n",
    "cosmicfilterpop=cosmicfilterpop.rename(columns={\"porb\": \"PorbSI\", \"mass_1\": \"mass_1SI\", \"mass_2\": \"mass_2SI\", \"rad_1\": \"mass_1rSI\", \"rad_2\": \"mass_2rSI\", \"Unnamed 0\": \"mc\", \"sep\": \"a_b\", \"omega_spin_1\": \"w_star1\", \"omega_spin_2\": \"w_star2\"})                            \n",
    "\n",
    "cosmicfilterpop.to_csv(r\"PathToFile\")"
   ]
  },
  {
   "cell_type": "code",
   "execution_count": 6,
   "metadata": {},
   "outputs": [],
   "source": []
  },
  {
   "cell_type": "code",
   "execution_count": 7,
   "metadata": {},
   "outputs": [],
   "source": []
  }
 ],
 "metadata": {
  "kernelspec": {
   "display_name": "Python 3",
   "language": "python",
   "name": "python3"
  },
  "language_info": {
   "codemirror_mode": {
    "name": "ipython",
    "version": 3
   },
   "file_extension": ".py",
   "mimetype": "text/x-python",
   "name": "python",
   "nbconvert_exporter": "python",
   "pygments_lexer": "ipython3",
   "version": "3.7.3"
  }
 },
 "nbformat": 4,
 "nbformat_minor": 2
}
